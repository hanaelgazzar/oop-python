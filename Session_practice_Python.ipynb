{
  "nbformat": 4,
  "nbformat_minor": 0,
  "metadata": {
    "colab": {
      "provenance": []
    },
    "kernelspec": {
      "name": "python3",
      "display_name": "Python 3"
    },
    "language_info": {
      "name": "python"
    }
  },
  "cells": [
    {
      "cell_type": "markdown",
      "source": [
        "#create user define module\n",
        "\n",
        "> Calc.py\n",
        "```\n",
        "def add(a,b):\n",
        "    return a+b\n",
        "def sub(a,b):\n",
        "    return a-b\n",
        "def Multiply(a,b):\n",
        "    return a*b\n",
        "def divide(a,b):\n",
        "    if b!=0:\n",
        "      return a/b\n",
        "def dot(a,b):\n",
        "    return a[0]*b[0]+a[1]*b[1]\n",
        "```\n",
        "\n"
      ],
      "metadata": {
        "id": "kzU3Vbo7c0ye"
      }
    },
    {
      "cell_type": "code",
      "source": [
        "from Calc import add,Multiply,sub\n",
        "A=int(input(\"Enter first number = \"))\n",
        "B=int(input(\"Enter second number = \"))\n",
        "print(f\"ADD result {A} + {B}  = {add(A,B)}\")\n",
        "print(f\"Multiply result {A} * {B}  = {Multiply(A,B)}\")\n",
        "# A=[]\n",
        "# B=[]\n",
        "# A_1=int(input(\"Enter first num in vector A  = \"))\n",
        "# A.append(A_1)\n",
        "# A_2=int(input(\"Enter second num in vector A  = \"))\n",
        "# A.append(A_2)\n",
        "# B_1=int(input(\"Enter first num in vector B  = \"))\n",
        "# B.append(B_1)\n",
        "# B_2=int(input(\"Enter second num in vector B  = \"))\n",
        "# B.append(B_2)\n",
        "# print(f\"dot result {A} . {B}  =\",dot(A,B))"
      ],
      "metadata": {
        "colab": {
          "base_uri": "https://localhost:8080/"
        },
        "id": "BkWIvWfuCYik",
        "outputId": "21f8b139-f418-480e-d381-3749b0ade845"
      },
      "execution_count": null,
      "outputs": [
        {
          "output_type": "stream",
          "name": "stdout",
          "text": [
            "Enter first number = 4\n",
            "Enter second number = 2\n",
            "ADD result 4 + 2  = 6\n",
            "Multiply result 4 * 2  = 8\n"
          ]
        }
      ]
    },
    {
      "cell_type": "markdown",
      "source": [
        "#Create txt file [write & read]"
      ],
      "metadata": {
        "id": "xt5XnxNkckpi"
      }
    },
    {
      "cell_type": "code",
      "source": [
        "def get_info():\n",
        "    f_name=input(\"enter first name :\")\n",
        "    s_name=input(\"enter second name :\")\n",
        "    id=input(\"enter ID :\")\n",
        "    with open(\"info.txt\",encoding='utf-8') as file :\n",
        "      file.write(f_name)\n",
        "      file.write(s_name)\n",
        "      file.write(id)\n",
        "      print(file.read(4))\n"
      ],
      "metadata": {
        "id": "X4Urnntq2gdl"
      },
      "execution_count": null,
      "outputs": []
    },
    {
      "cell_type": "code",
      "execution_count": null,
      "metadata": {
        "colab": {
          "base_uri": "https://localhost:8080/"
        },
        "id": "FpElX9Mh1NkQ",
        "outputId": "ff57baa5-f362-46bd-dbb0-5025a790bd8d"
      },
      "outputs": [
        {
          "output_type": "stream",
          "name": "stdout",
          "text": [
            "[]\n"
          ]
        }
      ],
      "source": [
        "def file_read(f_name):\n",
        "  with open(f_name) as f:\n",
        "    content=f.readlines()\n",
        "    print(content)\n",
        "file_read(\"info.txt\")\n"
      ]
    },
    {
      "cell_type": "code",
      "source": [
        "def get_info():\n",
        "    f_name = input(\"Enter first name: \")\n",
        "    s_name = input(\"Enter second name: \")\n",
        "    user_id = input(\"Enter ID: \")\n",
        "\n",
        "    # Open the file in write mode to store the data\n",
        "    with open(\"info.txt\", \"w\", encoding=\"utf-8\") as file:\n",
        "        file.write(f_name + \"\\n\")\n",
        "        file.write(s_name + \"\\n\")\n",
        "        file.write(user_id + \"\\n\")\n",
        "\n",
        "    # Reopen the file in read mode to read the first 4 characters\n",
        "    with open(\"info.txt\", \"r\", encoding=\"utf-8\") as file:\n",
        "        print(file.read(4))\n",
        "\n",
        "def file_read(f_name):\n",
        "    # Open the file and read all lines\n",
        "    with open(f_name, \"r\", encoding=\"utf-8\") as f:\n",
        "        content = f.readlines()\n",
        "        print(content)\n",
        "\n",
        "# Call the functions\n",
        "get_info()\n",
        "file_read(\"info.txt\")\n"
      ],
      "metadata": {
        "colab": {
          "base_uri": "https://localhost:8080/"
        },
        "id": "cT4B6xlR33DI",
        "outputId": "0c085c11-931b-4f7c-b717-de8b6936c88a"
      },
      "execution_count": null,
      "outputs": [
        {
          "output_type": "stream",
          "name": "stdout",
          "text": [
            "Enter first name: Maryam\n",
            "Enter second name: Sayed\n",
            "Enter ID: 20\n",
            "Mary\n",
            "['Maryam\\n', 'Sayed\\n', '20\\n']\n"
          ]
        }
      ]
    },
    {
      "cell_type": "markdown",
      "source": [
        "#1. Basic Arithmetic\n",
        "> Write a Python program to add, subtract, multiply, and divide two numbers entered by\n",
        "the user"
      ],
      "metadata": {
        "id": "sBh9TIGBSP_g"
      }
    },
    {
      "cell_type": "code",
      "source": [
        "A = int(input(\"Enter first num: \"))\n",
        "B = int(input(\"Enter second num: \"))\n",
        "print(f\"ADD result {A} + {B}  = {A+B}\")\n",
        "print(f\"SUB result {A} - {B}  = {A-B}\")\n",
        "print(f\"Multiply result {A} * {B}  = {A*B}\")\n",
        "print(f\"Divide result {A} / {B}  = {A/B}\")"
      ],
      "metadata": {
        "colab": {
          "base_uri": "https://localhost:8080/"
        },
        "id": "I2iZpoX_SdPv",
        "outputId": "25126dd5-dc00-4bde-d39d-52a238226b4b"
      },
      "execution_count": null,
      "outputs": [
        {
          "output_type": "stream",
          "name": "stdout",
          "text": [
            "Enter first num: 8\n",
            "Enter second num: 2\n",
            "ADD result 8 + 2  = 10\n",
            "SUB result 8 - 2  = 6\n",
            "Multiply result 8 * 2  = 16\n",
            "Divide result 8 / 2  = 4.0\n"
          ]
        }
      ]
    },
    {
      "cell_type": "markdown",
      "source": [
        "#2. List Slicing\n",
        "Given a list numbers = [10, 20, 30, 40, 50, 60], write a program to extract:\n",
        "> o The first three elements.\n",
        "\n",
        "> o The last two elements."
      ],
      "metadata": {
        "id": "wOzQdtkRTdHA"
      }
    },
    {
      "cell_type": "code",
      "source": [
        "# N= int(input(\"Enter N elements : \"))\n",
        "L=[10, 20, 30, 40, 50, 60]\n",
        "# for i in range(len(L)):\n",
        "#   # n= int(input(\"Enter n element : \"))\n",
        "#   L.append(n)\n",
        "\n",
        "\n",
        "print(f\"first three elements ={L[0:3]},The last two elements ={L[-2:]} \")\n"
      ],
      "metadata": {
        "colab": {
          "base_uri": "https://localhost:8080/"
        },
        "id": "mnybzUhtTnKP",
        "outputId": "189e3b51-6dee-42b3-9647-6b75d6e4c137"
      },
      "execution_count": null,
      "outputs": [
        {
          "output_type": "stream",
          "name": "stdout",
          "text": [
            "first three elements =[10, 20, 30],The last two elements =[50, 60] \n"
          ]
        }
      ]
    },
    {
      "cell_type": "markdown",
      "source": [
        "#3. String Manipulation\n",
        "Write a Python program that takes a user-input string and converts it to:\n",
        "> o All uppercase letters\n",
        "\n",
        "> o All lowercase letters\n",
        "\n",
        "> o Reverse order"
      ],
      "metadata": {
        "id": "lajCTWfHUWCd"
      }
    },
    {
      "cell_type": "code",
      "source": [
        "N_letters= int(input(\"Enter N_letters elements : \"))\n",
        "L=[]\n",
        "for i in range(N_letters):\n",
        "  n= int(input(\"Enter n element : \"))\n",
        "  L.append(n)"
      ],
      "metadata": {
        "id": "ujO5NUOBUgV2"
      },
      "execution_count": null,
      "outputs": []
    },
    {
      "cell_type": "markdown",
      "source": [
        "#4. Conditional Statements\n",
        "> Write a program to determine if a number entered by the user is even or odd."
      ],
      "metadata": {
        "id": "ZLVEd-vsU5xO"
      }
    },
    {
      "cell_type": "code",
      "source": [
        "N= int(input(\"Enter N : \"))\n",
        "if N % 2==0:\n",
        "  print(\"even\")\n",
        "else :\n",
        "  print(\"odd\")"
      ],
      "metadata": {
        "id": "rAe8M256U2r4"
      },
      "execution_count": null,
      "outputs": []
    },
    {
      "cell_type": "markdown",
      "source": [
        "#5. Loop Basics\n",
        "> Print all numbers from 1 to 50 that are divisible by both 3 and 5"
      ],
      "metadata": {
        "id": "EI8h32V1VQIH"
      }
    },
    {
      "cell_type": "code",
      "source": [
        "for i in range(1,51):\n",
        "  if (i%3==0) and (i%5==0)  :\n",
        "    print(i)"
      ],
      "metadata": {
        "colab": {
          "base_uri": "https://localhost:8080/"
        },
        "id": "bhQAJKnxVUPh",
        "outputId": "5211fd58-b45a-4d25-e1b9-0864869b922a"
      },
      "execution_count": null,
      "outputs": [
        {
          "output_type": "stream",
          "name": "stdout",
          "text": [
            "15\n",
            "30\n",
            "45\n"
          ]
        }
      ]
    },
    {
      "cell_type": "markdown",
      "source": [
        "#6. Functions\n",
        "> Write a function factorial(n) that returns the factorial of a given number n."
      ],
      "metadata": {
        "id": "fZ4n-lrgXSIc"
      }
    },
    {
      "cell_type": "code",
      "source": [
        "def  factorial(n):\n",
        "   if n==0 or n==1:\n",
        "     res=1\n",
        "     return res\n",
        "   else:\n",
        "      res=1\n",
        "      for  i in  range(1,n+1):\n",
        "        res*=i\n",
        "      return res\n",
        "\n",
        "factorial(5)"
      ],
      "metadata": {
        "colab": {
          "base_uri": "https://localhost:8080/"
        },
        "id": "3ff8cesHXXbp",
        "outputId": "76c1fb82-09f4-41ea-b45b-3fdb05fd717a"
      },
      "execution_count": null,
      "outputs": [
        {
          "output_type": "execute_result",
          "data": {
            "text/plain": [
              "120"
            ]
          },
          "metadata": {},
          "execution_count": 8
        }
      ]
    },
    {
      "cell_type": "markdown",
      "source": [
        "#7. List Comprehensions\n",
        "> Create a list of squares of all even numbers from 1 to 20 using list comprehension."
      ],
      "metadata": {
        "id": "woOERTykY26k"
      }
    },
    {
      "cell_type": "code",
      "source": [
        "import numpy as np\n",
        "\n",
        "l=[np.power(i,2) for i in range(1,21) if i%2==0]\n",
        "print(l)"
      ],
      "metadata": {
        "colab": {
          "base_uri": "https://localhost:8080/"
        },
        "id": "yVBJpcQhY4Qh",
        "outputId": "58080e6f-ecbf-4c93-ed9a-f44a688d5c4f"
      },
      "execution_count": null,
      "outputs": [
        {
          "output_type": "stream",
          "name": "stdout",
          "text": [
            "[4, 16, 36, 64, 100, 144, 196, 256, 324, 400]\n"
          ]
        }
      ]
    },
    {
      "cell_type": "markdown",
      "source": [
        "#8. Dictionaries\n",
        "> Write a program to count the frequency of each character in a given string and store the\n",
        "result in a dictionary.\n"
      ],
      "metadata": {
        "id": "gQvkSU4JM7ra"
      }
    },
    {
      "cell_type": "code",
      "source": [
        "input_str=str(input(\"enter your string:\"))\n",
        "input_str_unique=list(set(input_str))\n",
        "dic={}\n",
        "for c in input_str_unique:\n",
        "  c_count=0\n",
        "  for v in input_str:\n",
        "    if v==c:\n",
        "      c_count+=1\n",
        "\n",
        "  dic[c]=c_count\n",
        "print(dic)"
      ],
      "metadata": {
        "colab": {
          "base_uri": "https://localhost:8080/"
        },
        "id": "4XMM9WnVOlex",
        "outputId": "1cee8ad5-759c-4886-fd55-e2d716e5c6e7"
      },
      "execution_count": null,
      "outputs": [
        {
          "output_type": "stream",
          "name": "stdout",
          "text": [
            "enter your string:mmmkkk\n",
            "{'k': 3, 'm': 3}\n"
          ]
        }
      ]
    },
    {
      "cell_type": "markdown",
      "source": [
        "#9. Nested Loops\n",
        "> Write a program to print the following pattern for a given n:\n",
        "\n",
        "1\n",
        "\n",
        "12\n",
        "\n",
        "123\n",
        "\n",
        "1234\n",
        "\n",
        ">(Each row contains numbers from 1 to the row number.)"
      ],
      "metadata": {
        "id": "gcNSHtLUaaGR"
      }
    },
    {
      "cell_type": "code",
      "source": [
        "n=int(input(\"enter n:\"))\n",
        "for I in range(1,n+1):\n",
        "  for i in range(1,I+1):\n",
        "    print(i)\n",
        "  print('\\n')"
      ],
      "metadata": {
        "colab": {
          "base_uri": "https://localhost:8080/"
        },
        "id": "A8mYUSY7aZgo",
        "outputId": "f22b8263-990e-4b11-9b1e-0ad783cdaa36"
      },
      "execution_count": null,
      "outputs": [
        {
          "output_type": "stream",
          "name": "stdout",
          "text": [
            "enter n:3\n",
            "1\n",
            "\n",
            "\n",
            "1\n",
            "2\n",
            "\n",
            "\n",
            "1\n",
            "2\n",
            "3\n",
            "\n",
            "\n"
          ]
        }
      ]
    },
    {
      "cell_type": "markdown",
      "source": [
        "#10. Error Handling\n",
        "> Write a program that takes two numbers from the user and divides the first by the second.\n",
        "\n",
        "> Handle the case where the second number is zero with a meaningful error\n",
        "message"
      ],
      "metadata": {
        "id": "gkFfgjJDbfId"
      }
    },
    {
      "cell_type": "code",
      "source": [
        "def divide_numbers():\n",
        "    try:\n",
        "        # Take two numbers from the user\n",
        "        num1 = float(input(\"Enter the first number: \"))\n",
        "        num2 = float(input(\"Enter the second number: \"))\n",
        "\n",
        "        # Perform division\n",
        "        result = num1 / num2\n",
        "    except ZeroDivisionError:\n",
        "        print(\"Error: Division by zero is not allowed.\")\n",
        "    except ValueError:\n",
        "        print(\"Error: Please enter valid numeric values.\")\n",
        "    else:\n",
        "        print(f\"The result of dividing {num1} by {num2} is: {result}\")\n",
        "    finally:\n",
        "        print(\"Thank you for using the division program!\")\n",
        "\n",
        "# Call the function\n",
        "divide_numbers()\n"
      ],
      "metadata": {
        "colab": {
          "base_uri": "https://localhost:8080/"
        },
        "id": "4TKaybmIbrON",
        "outputId": "0f580b7b-b27c-401f-bb67-12342522321c"
      },
      "execution_count": null,
      "outputs": [
        {
          "output_type": "stream",
          "name": "stdout",
          "text": [
            "Enter the first number: 2\n",
            "Enter the second number: 0\n",
            "Error: Division by zero is not allowed.\n",
            "Thank you for using the division program!\n"
          ]
        }
      ]
    }
  ]
}