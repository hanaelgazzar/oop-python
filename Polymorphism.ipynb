{
  "nbformat": 4,
  "nbformat_minor": 0,
  "metadata": {
    "colab": {
      "provenance": []
    },
    "kernelspec": {
      "name": "python3",
      "display_name": "Python 3"
    },
    "language_info": {
      "name": "python"
    }
  },
  "cells": [
    {
      "cell_type": "markdown",
      "source": [
        "# Polymorphism in Built-in Functions"
      ],
      "metadata": {
        "id": "DfPnaajZT8dL"
      }
    },
    {
      "cell_type": "code",
      "source": [
        "print(len(\"Hello\"))  # String length\n",
        "print(len([1, 2, 3]))  # List length\n",
        "\n",
        "print(max(1, 3, 2))  # Maximum of integers\n",
        "print(max(\"a\", \"z\", \"m\"))  # Maximum in strings\n"
      ],
      "metadata": {
        "id": "u9lDBTPNT7na"
      },
      "execution_count": null,
      "outputs": []
    },
    {
      "cell_type": "markdown",
      "source": [
        "# Polymorphism in Functions"
      ],
      "metadata": {
        "id": "YAA-ig_xUK_A"
      }
    },
    {
      "cell_type": "code",
      "source": [
        "def add(a, b):\n",
        "    return a + b\n",
        "\n",
        "print(add(3, 4))           # Integer addition\n",
        "print(add(\"Hello, \", \"World!\"))  # String concatenation\n",
        "print(add([1, 2], [3, 4])) # List concatenation\n"
      ],
      "metadata": {
        "id": "HTpE8_CDUSiw"
      },
      "execution_count": null,
      "outputs": []
    },
    {
      "cell_type": "markdown",
      "source": [],
      "metadata": {
        "id": "9S9oP2JlUVjk"
      }
    },
    {
      "cell_type": "code",
      "source": [
        "class Shape:\n",
        "    def area(self):\n",
        "        return \"Undefined\"\n",
        "\n",
        "class Rectangle(Shape):\n",
        "    def __init__(self, length, width):\n",
        "        self.length = length\n",
        "        self.width = width\n",
        "\n",
        "    def area(self):\n",
        "        return self.length * self.width\n",
        "\n",
        "class Circle(Shape):\n",
        "    def __init__(self, radius):\n",
        "        self.radius = radius\n",
        "\n",
        "    def area(self):\n",
        "        return 3.14 * self.radius ** 2\n",
        "\n",
        "shapes = [Rectangle(2, 3), Circle(5)]\n",
        "print(shapes[0].length)\n",
        "for shape in shapes:\n",
        "    print(f\"Area: {shape.area()}\")\n"
      ],
      "metadata": {
        "colab": {
          "base_uri": "https://localhost:8080/"
        },
        "id": "kWfNI99gUjAU",
        "outputId": "b7854d49-dc9f-4b2f-8091-4d0d269fa696"
      },
      "execution_count": null,
      "outputs": [
        {
          "output_type": "stream",
          "name": "stdout",
          "text": [
            "2\n",
            "Area: 6\n",
            "Area: 78.5\n"
          ]
        }
      ]
    },
    {
      "cell_type": "code",
      "source": [
        "class Animal:\n",
        "    def sound(self):\n",
        "        return \"Some generic sound\"\n",
        "\n",
        "class Dog(Animal):\n",
        "    def sound(self):\n",
        "        return \"Bark\"\n",
        "\n",
        "class Cat(Animal):\n",
        "    def sound(self):\n",
        "        return \"Meow\"\n",
        "\n",
        "# Polymorphic behavior\n",
        "animals = [Dog(), Cat(), Animal()]\n",
        "for animal in animals:\n",
        "    print(animal.sound())  # Calls the overridden method based on the object type\n"
      ],
      "metadata": {
        "id": "Mq-ZeMU8Uk1q"
      },
      "execution_count": null,
      "outputs": []
    },
    {
      "cell_type": "markdown",
      "source": [
        "# Inheritance Class Polymorphism"
      ],
      "metadata": {
        "id": "lVpNGFPeU0CN"
      }
    },
    {
      "cell_type": "code",
      "source": [
        "class Animal:\n",
        "    def sound(self):\n",
        "        return \"Some generic animal sound\"\n",
        "\n",
        "class Dog(Animal):\n",
        "    def sound(self):\n",
        "        return \"Bark\"\n",
        "\n",
        "class Cat(Animal):\n",
        "    def sound(self):\n",
        "        return \"Meow\"\n"
      ],
      "metadata": {
        "id": "gGMtge4lUvK6"
      },
      "execution_count": null,
      "outputs": []
    },
    {
      "cell_type": "code",
      "source": [
        "#polymorphism-1.py\n",
        "\n",
        "# Polymorphism means having the same interface/attributes in different\n",
        "# classes.\n",
        "\n",
        "# Polymorphism is the characteristic of being able to assign\n",
        "# a different meaning or usage in different contexts.\n",
        "# A not-so-clear/clean example is, different classes can have\n",
        "# the same function name.\n",
        "\n",
        "# Here, the class Dog and Cat has the same method named 'show_affection'\n",
        "# Even if they are same, both does different actions in the instance.\n",
        "#\n",
        "# Since the order of the lookup is\n",
        "# 'instance' -> 'class' -> 'parent class', even if the\n",
        "# 'class' and 'parent class' has functions with the same name,\n",
        "# the instance will only pick up the first hit,\n",
        "# ie.. from the 'class' and won't go to the parent class.\n",
        "\n",
        "\n",
        "class Animal(object):\n",
        "    def __init__(self, name):\n",
        "        self.name = name\n",
        "\n",
        "    def eat(self, food):\n",
        "        print(\"{0} eats {1} \".format(self.name, food))\n",
        "        # print(f\"{self.name} eats {food}\")\n",
        "\n",
        "\n",
        "class Dog(Animal):\n",
        "    def show_affection(self):\n",
        "        print(\"{0} wags tail\".format(self.name))\n",
        "\n",
        "\n",
        "class Cat(Animal):\n",
        "    def show_affection(self):\n",
        "        print(\"{0} purrs\".format(self.name))\n",
        "\n",
        "\n",
        "for a in (Dog(\"Tuffy\"), Cat(\"Mona\"), Cat(\"Lucy\"), Dog(\"Tommy\")):\n",
        "    a.show_affection()\n"
      ],
      "metadata": {
        "colab": {
          "base_uri": "https://localhost:8080/"
        },
        "id": "emRG2KEzTEqY",
        "outputId": "4f122498-0bca-4009-8c27-d2a5c9725d75"
      },
      "execution_count": null,
      "outputs": [
        {
          "output_type": "stream",
          "name": "stdout",
          "text": [
            "Tuffy wags tail\n",
            "Mona purrs\n",
            "Lucy purrs\n",
            "Tommy wags tail\n"
          ]
        }
      ]
    },
    {
      "cell_type": "code",
      "source": [],
      "metadata": {
        "id": "tH1aQGvSTIvb"
      },
      "execution_count": null,
      "outputs": []
    },
    {
      "cell_type": "code",
      "source": [],
      "metadata": {
        "id": "An6Rmj9_TLcj"
      },
      "execution_count": null,
      "outputs": []
    }
  ]
}